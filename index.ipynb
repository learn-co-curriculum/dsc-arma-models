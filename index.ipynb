{
 "cells": [
  {
   "cell_type": "markdown",
   "metadata": {},
   "source": [
    "# ARMA Models\n",
    "\n",
    "## Introduction\n",
    "\n",
    "You've seen two basic time series models now, the random walk and white noise models. In this lesson, you'll learn about two other very important time series models that are widely used to understand and predict future values in stochastic processes: the Autoregressive (AR) and Moving Average (MA) models.\n",
    "\n",
    "## Objectives\n",
    "\n",
    "You will be able to:\n",
    "- Explain what autoregressive means in an autoregressive model \n",
    "- Explain what a moving average model means \n",
    "- Describe how AR and MA can be combined to form an ARMA model \n",
    "\n",
    "## The Autoregressive Model\n",
    "\n",
    "An autoregressive (AR) model is when a value from a time series is regressed on previous values from the same time series.\n",
    "\n",
    "In words, the mathematical idea is the following:\n",
    "\n",
    "$$ \\text{Today = constant + slope} \\times \\text{yesterday + noise} $$\n",
    "\n",
    "Or, mathematically:\n",
    "$$\\large Y_t = \\mu + \\phi * Y_{t-1}+\\epsilon_t$$\n",
    "\n",
    "Some notes based on this formula:\n",
    "- If the slope is 0, the time series is a white noise model with mean $\\mu$\n",
    "- If the slope is not 0, the time series is autocorrelated\n",
    "- Bigger slope means bigger autocorrelation\n",
    "- When there is a negative slope, the time series follows an oscillatory process\n",
    "\n",
    "We simulated some time series below. Have a look at them, and make sure this follows your intuition looking at the formula."
   ]
  },
  {
   "cell_type": "markdown",
   "metadata": {},
   "source": [
    "<img src=\"https://raw.githubusercontent.com/learn-co-curriculum/dsc-arma-models/master/images/AR_model.png\" alt=\"autoregressive model\" />"
   ]
  },
  {
   "cell_type": "markdown",
   "metadata": {},
   "source": [
    "Note that simply having a value for *phi* ( $\\phi$ ) slightly bigger than 1, the time series clearly goes in one direction. Note the scale of the y-axis, where the y-axis scale for all the other processes is between -10 and 10, the last time series goes down to values of -100.\n",
    "\n",
    "Let's look at the autocorrelation plots as well."
   ]
  },
  {
   "cell_type": "markdown",
   "metadata": {},
   "source": [
    "<img src=\"https://raw.githubusercontent.com/learn-co-curriculum/dsc-arma-models/master/images/AR_ACF.png\" alt=\"autoregressive autocorrelation functions\" />"
   ]
  },
  {
   "cell_type": "markdown",
   "metadata": {},
   "source": [
    "The oscillatory process of the time series with $\\phi=0.9$ is reflected in the autocorrelation function, returning an oscillatory autocorrelation function as well. $\\phi=0.2$ leads to a very low, insignificant,  autocorrelation. $\\phi=0.8$ leads to a strong autocorrelation for the first few lags and then incurs a steep decline. Having a $\\phi=1.02$ (just slightly bigger than 1) leads to strong and long-lasting autocorrelation.\n",
    "\n",
    "\n",
    "Next, let's look at the partial autocorrelation plots."
   ]
  },
  {
   "cell_type": "markdown",
   "metadata": {},
   "source": [
    "<img src=\"https://raw.githubusercontent.com/learn-co-curriculum/dsc-arma-models/master/images/AR_PACF.png\" alt=\"autogregressive partial autocorrelation functions\" />"
   ]
  },
  {
   "cell_type": "markdown",
   "metadata": {},
   "source": [
    "For each of these PACFs, we notice a high value for 1 lag, then autocorrelations of 0, except for the second one. This is no big surprise, as the slope parameter is fairly small, so the relationship between a value and the next one is fairly limited.\n",
    "\n",
    "## The  Moving Average Model\n",
    "\n",
    "The Moving Average model can be described as the weighted sum of today's and yesterday's noise.\n",
    "\n",
    "In words, the mathematical idea is the following:\n",
    "\n",
    "$$ \\text{Today = Mean + Noise + Slope} \\times \\text{yesterday's noise} $$\n",
    "\n",
    "Or, mathematically:\n",
    "$$\\large Y_t = \\mu +\\epsilon_t + \\theta * \\epsilon_{t-1}$$\n",
    "\n",
    "Some notes based on this formula:\n",
    "- If the slope is 0, the time series is a white noise model with mean $\\mu$\n",
    "- If the slope is not 0, the time series is autocorrelated and depends on the previous white noise process\n",
    "- Bigger slope means bigger autocorrelation\n",
    "- When there is a negative slope, the time series follow an oscillatory process\n",
    "\n",
    "For the Moving Average Model we also simulated some time series with varying parameters below.\n",
    "\n",
    "<img src=\"https://raw.githubusercontent.com/learn-co-curriculum/dsc-arma-models/master/images/MA_model.png\" alt=\"moving average model\" />"
   ]
  },
  {
   "cell_type": "markdown",
   "metadata": {},
   "source": [
    "When there is a positive $\\theta$ there is a certain persistence in level, meaning that each observation is generally close to its neighbors. This is more pronounced for higher values of $\\theta$. MA series with negative coefficients, however, show oscillatory patterns. Recall that when $\\theta=0$, the process is a true white noise process! \n",
    "\n",
    "Let's look at the ACF plots."
   ]
  },
  {
   "cell_type": "markdown",
   "metadata": {},
   "source": [
    "<img src=\"https://raw.githubusercontent.com/learn-co-curriculum/dsc-arma-models/master/images/MA_ACF.png\" alt=\"moving average autocorrelation functions\" />"
   ]
  },
  {
   "cell_type": "markdown",
   "metadata": {},
   "source": [
    "Remember that MA processes have autocorrelations, but because of the structure of the MA formula (regressing it on the noise term of the previous observation) there is only a dependence for one period, and the autocorrelation is zero for lags 2 and higher.\n",
    "\n",
    "If $\\theta >0$ the lag one autocorrelation is positive, if $\\theta <0$ the lag one autocorrelation is negative.\n",
    "\n",
    "Next, let's look at the partial autocorrelation plots."
   ]
  },
  {
   "cell_type": "markdown",
   "metadata": {},
   "source": [
    "<img src=\"https://raw.githubusercontent.com/learn-co-curriculum/dsc-arma-models/master/images/MA_PACF.png\" alt=\"moving average partial autocorrelation functions\" />"
   ]
  },
  {
   "cell_type": "markdown",
   "metadata": {},
   "source": [
    "For PACFs, a typical structure is that  there is a strong correlation with the 1-period lag (strength depending on $\\theta$), and then the PACF gradually tails off. You can particularly observe this for $\\theta=0.9$ and $\\theta=-0.95$.\n",
    "\n",
    "## Higher-order AR and MA models\n",
    "\n",
    "Let's look at the formulas of AR and MA again:\n",
    "\n",
    "- AR: $Y_t = \\mu + \\phi * Y_{t-1}+\\epsilon_t$\n",
    "- MA: $Y_t = \\mu +\\epsilon_t + \\theta * \\epsilon_{t-1}$\n",
    "\n",
    "Note that these models are constructed in a way that processes only depend directly on the previous observation in the process. These are known as \"1st order models\", and denoted by AR(1) and MA(1) processes respectively. Let's look at AR(2) and MA(2).\n",
    "\n",
    "- AR(2): $Y_t = \\mu + \\phi_1 * Y_{t-1}+\\phi_2 * Y_{t-2}+\\epsilon_t$\n",
    "- MA(2): $Y_t = \\mu +\\epsilon_t + \\theta_1 * \\epsilon_{t-1}+ \\theta_2 * \\epsilon_{t-2}$\n",
    "\n",
    "\n",
    "Needless to say, this can be extended to higher-orders as well! Generally, the order of an AR model is denoted $p$, and the order of an MA model is denoted $q$.\n",
    "\n",
    "## ACF and PACF intuition for AR(p) and MA(q)\n",
    "\n",
    "A quick overview of how higher order models affect the ACF and PACF: \n",
    "\n",
    "### AR(p)\n",
    "\n",
    "Considering a time series that was generated by an autoregression (AR) process with an order of $p$, we would expect the ACF plot for the AR(p) time series to be strong to a lag of $p$ and remain stagnant for subsequent lag values, trailing off at some point as the effect is weakened. The PACF, on the other hand, describes the direct relationship between an observation and its lag. This generally leads to no correlation for lag values beyond $p$.\n",
    "\n",
    "### MA(q)\n",
    "\n",
    "With a time series generated by a moving average (MA) process with an order $q$, we would expect the ACF for the MA(q) process to show a strong correlation with recent values up to the lag of $q$, then an immediate decline to minimal or no correlation. For the PACF, we would expect the plot to show a strong relationship to the lag and then a tailing off to no correlation from the lag onwards.\n",
    "\n",
    "## ARMA models\n",
    "\n",
    "Now that we've seen AR and MA models, it is important to note that **there is no reason why AR and MA models would not coexist**. That's where ARMA models come in, which basically means that in this model, a regression on past values takes place (AR part) and also that the error term is modeled as a linear combination of error terms of the recent past (MA part). Generally, one denotes ARMA as ARMA(p, q).\n",
    "\n",
    "An ARMA(2,1) model is given by:\n",
    "\n",
    "\n",
    " $$Y_t = \\mu + \\phi_1 Y_{t-1}+\\phi_2 Y_{t-2}+ \\theta \\epsilon_{t-1}+\\epsilon_t$$\n",
    "\n",
    "\n",
    "A short table to summarize ACF and PACF for AR(p), MA(q), and ARMA(p, q):\n",
    "\n",
    "| | AR(p)   |   MA(q)  | ARMA(p, q)|\n",
    "|------|------|------|------|\n",
    "|   ACF | Tails off   |  Cuts off after lag q |  Tails off   |\n",
    "|   PACF | Cuts off after lag p  |   Tails off  |  Tails off  |\n",
    "\n",
    "\n",
    "## Note on modeling\n",
    "\n",
    "Seeing the table above, you might get an idea of why ACF and PACF are so useful when modeling! What you generally will try to do for any time series analysis is:\n",
    "\n",
    "- Detrend your time series using differencing. ARMA models represent stationary processes, so we have to make sure there are no trends in our time series\n",
    "- Look at ACF and PACF of the time series\n",
    "- Decide on the AR, MA, and order of these models\n",
    "- Fit the model to get the correct parameters and use for prediction\n",
    "\n",
    "## Additional resources\n",
    "\n",
    "To learn more about AR, MA, and ARMA, have a look at lessons 1 and 2 [here](https://online.stat.psu.edu/stat510/).\n",
    "\n",
    "## Summary\n",
    "\n",
    "Great! Now that you have learned the basics of AR, MA, and ARMA models, let's look at some time series and how to model them in the next lesson!"
   ]
  }
 ],
 "metadata": {
  "kernelspec": {
   "display_name": "Python (learn-env)",
   "language": "python",
   "name": "learn-env"
  },
  "language_info": {
   "codemirror_mode": {
    "name": "ipython",
    "version": 3
   },
   "file_extension": ".py",
   "mimetype": "text/x-python",
   "name": "python",
   "nbconvert_exporter": "python",
   "pygments_lexer": "ipython3",
   "version": "3.8.5"
  }
 },
 "nbformat": 4,
 "nbformat_minor": 2
}
